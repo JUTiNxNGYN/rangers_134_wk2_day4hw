{
 "cells": [
  {
   "cell_type": "markdown",
   "metadata": {},
   "source": [
    "# User-Defined Functions & Scoping"
   ]
  },
  {
   "cell_type": "markdown",
   "metadata": {},
   "source": [
    "## Tasks Today:\n",
    "\n",
    "\n",
    "1) Functions <br>\n",
    " &nbsp;&nbsp;&nbsp;&nbsp; a) User-Defined vs. Built-In Functions <br>\n",
    " &nbsp;&nbsp;&nbsp;&nbsp; b) Accepting Parameters <br>\n",
    " &nbsp;&nbsp;&nbsp;&nbsp; c) Default Parameters <br>\n",
    " &nbsp;&nbsp;&nbsp;&nbsp; d) Making an Argument Optional <br>\n",
    " &nbsp;&nbsp;&nbsp;&nbsp; e) Keyword Arguments <br>\n",
    " &nbsp;&nbsp;&nbsp;&nbsp; f) Returning Values <br>\n",
    " &nbsp;&nbsp;&nbsp;&nbsp; g) *args <br>\n",
    " &nbsp;&nbsp;&nbsp;&nbsp; h) Docstring <br>\n",
    " &nbsp;&nbsp;&nbsp;&nbsp; i) Using a User Function in a Loop <br>\n",
    "2) Scope\n",
    "3) Creating more User-Defined functions "
   ]
  },
  {
   "cell_type": "markdown",
   "metadata": {},
   "source": [
    "\n",
    "## Functions"
   ]
  },
  {
   "cell_type": "markdown",
   "metadata": {},
   "source": [
    "##### User-Defined vs. Built-In Functions"
   ]
  },
  {
   "cell_type": "code",
   "execution_count": 2,
   "metadata": {},
   "outputs": [
    {
     "name": "stdout",
     "output_type": "stream",
     "text": [
      "hello\n",
      "hello again\n",
      "HELLO AGAIN\n",
      "Hello\n"
     ]
    }
   ],
   "source": [
    "# Built-in function \n",
    "# print(\"Hello\")\n",
    "print(\"hello\")\n",
    "\n",
    "# user defined function\n",
    "\n",
    "# def precedes every function name\n",
    "# def keyword function name (which can be anything, its just a variable name) parentheses(parameter) **not all functions\n",
    "# will accept parameters\n",
    "def say_hello():\n",
    "    return \"hello\" # output of a function\n",
    "# return will give us a tangible value we can work with, pass into other functions, alter, set to variable\n",
    "\n",
    "say_hello() # calling a function \n",
    "# call a function by typing the name of the function followed by parentheses\n",
    "\n",
    "def say_hello2():\n",
    "    return \"hello again\"\n",
    "\n",
    "output = say_hello2() # setting a variable to the output of a function\n",
    "\n",
    "print(output)\n",
    "\n",
    "print(say_hello2().upper()) # change the shape of the output with a builtin function\n",
    "\n",
    "# use the output of a function inside another function\n",
    "def say_hello3():\n",
    "    hello = say_hello() #setting a variable inside a function to the output of another function\n",
    "    return hello.title() #title casing output from another function\n",
    "\n",
    "print(say_hello3())"
   ]
  },
  {
   "cell_type": "markdown",
   "metadata": {},
   "source": [
    "##### Accepting Parameters"
   ]
  },
  {
   "cell_type": "code",
   "execution_count": 8,
   "metadata": {
    "scrolled": true
   },
   "outputs": [
    {
     "name": "stdout",
     "output_type": "stream",
     "text": [
      "{'hello there': 'general kenobi'}\n",
      "The scary pumpkin sleeps to the bathroom\n",
      "The furious car drives to the bathroom\n",
      "[4, 16, 36, 64]\n",
      "[16, 324, 256, 100]\n"
     ]
    }
   ],
   "source": [
    "# elements passed into a function\n",
    "# variables to hold the place of items our function will act upon\n",
    "# order matters\n",
    "# a parameter can be of any object type (data type)\n",
    "                #parameter holding the place of any possible list we can pass in\n",
    "# def square_even(parameter):\n",
    "\n",
    "# def square_even(a_list):\n",
    "#     for num in potato:\n",
    "#         if num % 2 == 0:\n",
    "#                   parameter\n",
    "def print_something(something):\n",
    "    return something\n",
    "#  when calling a function, the thing you put in the parantheses\n",
    "# is called an argument\n",
    "#the difference between a parameter and an argument:\n",
    "# a parameter is a place holder for an argument\n",
    "# an argument is what the function acts on\n",
    "#                     argument\n",
    "print(print_something({'hello there': 'general kenobi'}))\n",
    "# we can call the same function several times with different arguments and get a different output each time\n",
    "def adlib(noun, adjective, verb):\n",
    "    return f\"The {adjective} {noun} {verb} to the bathroom\"\n",
    "print(adlib(\"pumpkin\", \"scary\", \"sleeps\"))\n",
    "\n",
    "print(adlib(\"car\", \"furious\", \"drives\"))\n",
    "\n",
    "# Write a function that loops through a given list and returns a list with only the even numbers squared.\n",
    "#               parameter \n",
    "\n",
    "list1 = [2,3,4,5,6,7,8]\n",
    "list2 = [4, 18, 3, 13, 16, 10, 27]\n",
    "def square_even(a_list):\n",
    "    blist = []\n",
    "    #         function is acting on the parameter\n",
    "    for num in a_list:\n",
    "        if num % 2 == 0:\n",
    "            blist.append(num**2)\n",
    "#         output a list with all of our numbers squared\n",
    "    return(blist)\n",
    "#                  argument \n",
    "print(square_even(list1))\n",
    "#                  argument \n",
    "print(square_even(list2))"
   ]
  },
  {
   "cell_type": "markdown",
   "metadata": {},
   "source": [
    "##### Default Parameters"
   ]
  },
  {
   "cell_type": "code",
   "execution_count": 16,
   "metadata": {},
   "outputs": [
    {
     "name": "stdout",
     "output_type": "stream",
     "text": [
      "The name is Bond, James Bond\n",
      "The name is Borf, Jimmy Borf\n"
     ]
    }
   ],
   "source": [
    "# default parameters must always come after non-default parameters at all times forever and ever...or else\n",
    "# for as many parameters as our function accepts, it needs to take in that many arguments, no more, no less\n",
    "\n",
    "#example of what happens when too many or too few arguments are provided\n",
    "# def print_name(name):\n",
    "#     return name\n",
    "# print(print_name(\"Ryan\", \"Eyo\"))\n",
    "\n",
    "def agent_name(first_name, last_name = \"Bond\", middle_name = \"007\"):\n",
    "    return f\"The name is {last_name}, {first_name} {last_name} ..... {middle_name}\"\n",
    "\n",
    "print(agent_name(\"James\"))\n",
    "print(agent_name(\"Jimmy\", \"Borf\", \"Gorf\"))"
   ]
  },
  {
   "cell_type": "code",
   "execution_count": null,
   "metadata": {},
   "outputs": [],
   "source": [
    "# default parameters must always come after non-default parameters at all times forever and ever...or else"
   ]
  },
  {
   "cell_type": "markdown",
   "metadata": {},
   "source": [
    "##### Making an Argument Optional"
   ]
  },
  {
   "cell_type": "code",
   "execution_count": 22,
   "metadata": {},
   "outputs": [
    {
     "name": "stdout",
     "output_type": "stream",
     "text": [
      "Hello Mr.  Ed \n",
      "Hello Mr. Cool Guy Ed \n",
      "Hello Mr. Shadowfax  \n"
     ]
    }
   ],
   "source": [
    "def print_horse_name(first, middle=\"\", last = \"Ed\"):\n",
    "    return f\"Hello {first} {middle} {last} \"\n",
    "print(print_horse_name(\"Mr.\"))\n",
    "\n",
    "print(print_horse_name(\"Mr.\", \"Cool Guy\"))\n",
    "\n",
    "print(print_horse_name(\"Mr.\", \"Shadowfax\", \"\"))"
   ]
  },
  {
   "cell_type": "markdown",
   "metadata": {},
   "source": [
    "##### Keyword Arguments"
   ]
  },
  {
   "cell_type": "code",
   "execution_count": 23,
   "metadata": {},
   "outputs": [
    {
     "name": "stdout",
     "output_type": "stream",
     "text": [
      "10\n",
      "Batman's power is Money and their secret identity is Bruce Wayne\n"
     ]
    }
   ],
   "source": [
    "#keyword arguments must follow positional arugments\n",
    "# positional arguments are arugments that fulfill the same location as the parameter they're referencing\n",
    "def subtract_nums(num1, num2, num3):\n",
    "    return num3 - num2 - num1\n",
    "#               num1 num2 num3\n",
    "print(subtract_nums(10,20,40))\n",
    "\n",
    "# keyword arguments are variables that are created when the function is called\n",
    "def print_hero(name, secret_identity, power = \"flying\"):\n",
    "    return f\"{name}'s power is {power} and their secret identity is {secret_identity}\"\n",
    "print(print_hero(secret_identity = \"Bruce Wayne\", power = \"Money\", name = \"Batman\"))"
   ]
  },
  {
   "cell_type": "markdown",
   "metadata": {},
   "source": [
    "# Creating a start, stop, step function"
   ]
  },
  {
   "cell_type": "code",
   "execution_count": 25,
   "metadata": {
    "scrolled": true
   },
   "outputs": [
    {
     "name": "stdout",
     "output_type": "stream",
     "text": [
      "0\n",
      "1\n",
      "2\n",
      "3\n",
      "4\n",
      "5\n",
      "6\n",
      "7\n",
      "8\n",
      "9\n",
      "10\n",
      "11\n",
      "12\n",
      "13\n",
      "14\n",
      "Hey great job, you're beautiful\n",
      "1\n",
      "3\n",
      "5\n",
      "7\n",
      "9\n",
      "11\n",
      "13\n",
      "0\n",
      "1\n",
      "2\n",
      "3\n",
      "4\n",
      "5\n",
      "6\n",
      "7\n",
      "8\n",
      "9\n",
      "10\n",
      "11\n",
      "12\n",
      "13\n",
      "14\n"
     ]
    }
   ],
   "source": [
    "def my_range(stop, start = 0, step = 1):\n",
    "    for i in range(start, stop, step):\n",
    "        print(i)\n",
    "    return \"Hey great job, you're beautiful\"\n",
    "print(my_range(15))\n",
    "\n",
    "my_range(15, 1, 2)\n",
    "\n",
    "for i in range(15):\n",
    "    print(i)"
   ]
  },
  {
   "cell_type": "code",
   "execution_count": 32,
   "metadata": {},
   "outputs": [
    {
     "name": "stdout",
     "output_type": "stream",
     "text": [
      "1\n",
      "3\n",
      "5\n",
      "7\n",
      "9\n",
      "11\n",
      "13\n",
      "Hey great job, you're beautiful\n"
     ]
    },
    {
     "data": {
      "text/plain": [
       "[1, 3, 5, 7, 9, 11, 13]"
      ]
     },
     "execution_count": 32,
     "metadata": {},
     "output_type": "execute_result"
    }
   ],
   "source": [
    "def my_range(stop, start = 0, step = 1):\n",
    "    range_list = []\n",
    "    while start < stop:\n",
    "        print(start)\n",
    "        range_list.append(start)\n",
    "        start += step\n",
    "    print(\"Hey great job, you're beautiful\")\n",
    "    return range_list\n",
    "my_range(15, 1, 2)\n",
    "        "
   ]
  },
  {
   "cell_type": "markdown",
   "metadata": {},
   "source": [
    "##### Returning Values"
   ]
  },
  {
   "cell_type": "code",
   "execution_count": 34,
   "metadata": {},
   "outputs": [
    {
     "ename": "SyntaxError",
     "evalue": "invalid syntax (4032279978.py, line 2)",
     "output_type": "error",
     "traceback": [
      "\u001b[0;36m  Cell \u001b[0;32mIn[34], line 2\u001b[0;36m\u001b[0m\n\u001b[0;31m    def return_something(\"something\"):\u001b[0m\n\u001b[0m                         ^\u001b[0m\n\u001b[0;31mSyntaxError\u001b[0m\u001b[0;31m:\u001b[0m invalid syntax\n"
     ]
    }
   ],
   "source": [
    "# return will give us a tangible value we can work with, pass into other functions, alter, set to variable\n",
    "def return_something(\"something\"):\n",
    "    return something\n",
    "\n",
    "print(return_something(\"something\"))\n",
    "\n",
    "def return_something2(\"something\"):\n",
    "    pass\n",
    "\n",
    "# return_something2(\"hello\")"
   ]
  },
  {
   "cell_type": "markdown",
   "metadata": {},
   "source": [
    "##### *args / **kwargs (keyword arguments)"
   ]
  },
  {
   "cell_type": "code",
   "execution_count": 44,
   "metadata": {},
   "outputs": [
    {
     "name": "stdout",
     "output_type": "stream",
     "text": [
      "These are my positional arguments 20 23 Yamcha\n",
      "These are my *args ('Goku', 'Krillin', 'Gohan')\n",
      "These are my *kwargs {'bad_guy': 'Cell', 'bad_guy2': 'Frieza', 'dragon_balls': [1, 2, 3, 4]}\n"
     ]
    }
   ],
   "source": [
    "#*args, **kwargs\n",
    "# *args stands for arguments and will allow the function to take in any number of arguments\n",
    "# **kwargs stands for key word arguments and will allow the function to take in any number of keyword arguments\n",
    "# if other parameters are present, args and kwarfs must go last\n",
    "\n",
    "def print_args(num1, num2, name, *args, **kwargs):\n",
    "    print(\"These are my positional arguments\", num1, num2, name)\n",
    "    print(\"These are my *args\", args)\n",
    "    print(\"These are my *kwargs\", kwargs)\n",
    "    \n",
    "print_args(20, 23, \"Yamcha\", \"Goku\", \"Krillin\", \"Gohan\", bad_guy = \"Cell\", bad_guy2 = \"Frieza\", dragon_balls = [1, 2, 3, 4])\n",
    "\n"
   ]
  },
  {
   "cell_type": "code",
   "execution_count": 50,
   "metadata": {},
   "outputs": [
    {
     "name": "stdout",
     "output_type": "stream",
     "text": [
      "Looping through all of our *args: \n",
      "('Krillin', 'Goku', 'Piccolo', 'Dende', 'Gohan')\n",
      "Krillin\n",
      "Goku\n",
      "Piccolo\n",
      "Dende\n",
      "Gohan\n",
      "{'Krillin': 'Destructo Disc', 'Goku': 'Kamehameha', 'Piccolo': 'Special Beam Cannon', 'Gohan': 'Masenko'}\n",
      "Krillin's special move is Destructo Disc\n",
      "Goku's special move is Kamehameha\n",
      "Piccolo's special move is Special Beam Cannon\n",
      "Gohan's special move is Masenko\n"
     ]
    }
   ],
   "source": [
    "def dbz_info(*characters, **signature_moves):\n",
    "    print(\"Looping through all of our *args: \")\n",
    "    print(characters)\n",
    "    for char in characters:\n",
    "        print(char)\n",
    "    print(signature_moves)\n",
    "    for k,v in signature_moves.items():\n",
    "        print(f\"{k}'s special move is {v}\")\n",
    "        \n",
    "dbz_info(\"Krillin\", \"Goku\", \"Piccolo\", \"Dende\", \"Gohan\", Krillin = \"Destructo Disc\", Goku = \"Kamehameha\", Piccolo = \"Special Beam Cannon\", Gohan = \"Masenko\")"
   ]
  },
  {
   "cell_type": "markdown",
   "metadata": {},
   "source": [
    "##### Docstring"
   ]
  },
  {
   "cell_type": "code",
   "execution_count": null,
   "metadata": {},
   "outputs": [],
   "source": [
    "# docstrings are a really nice way to leave notes about funciontality in your code\n",
    "# provide instructions\n",
    "\n",
    "def title_names(arr):\n",
    "    \"\"\"\n",
    "    title_names(arr)\n",
    "    Function expcts a lst of strings to be passed in as an argument\n",
    "    It will loop through the list of strings, capitalize them and return\n",
    "    a new list with the title-cased strings.\n",
    "    \"\"\"\n",
    "    \n",
    "    titles = []\n",
    "    \n",
    "    for name in arr:\n",
    "        titles.append(name.title())\n",
    "        \n",
    "        return titles\n",
    "    \n",
    "help(title_names)"
   ]
  },
  {
   "cell_type": "markdown",
   "metadata": {},
   "source": [
    "##### Using a User Function in a Loop"
   ]
  },
  {
   "cell_type": "code",
   "execution_count": null,
   "metadata": {},
   "outputs": [],
   "source": [
    "store = {}"
   ]
  },
  {
   "cell_type": "code",
   "execution_count": 2,
   "metadata": {},
   "outputs": [
    {
     "name": "stdout",
     "output_type": "stream",
     "text": [
      "add something5\n",
      "add something33\n"
     ]
    }
   ],
   "source": [
    "\n",
    "def add_to_store(storage):\n",
    "    item = input(\"add something\")\n",
    "    quantity = input (\"add something\")\n",
    "    \n",
    "    storage[item] = quantity\n",
    "\n",
    "add_to_store(store)"
   ]
  },
  {
   "cell_type": "code",
   "execution_count": 6,
   "metadata": {},
   "outputs": [
    {
     "name": "stdout",
     "output_type": "stream",
     "text": [
      "{'apple': 'apple', '5': '33'}\n"
     ]
    }
   ],
   "source": [
    "print(store)"
   ]
  },
  {
   "cell_type": "code",
   "execution_count": 9,
   "metadata": {},
   "outputs": [
    {
     "ename": "NameError",
     "evalue": "name 'new_store' is not defined",
     "output_type": "error",
     "traceback": [
      "\u001b[0;31m---------------------------------------------------------------------------\u001b[0m",
      "\u001b[0;31mNameError\u001b[0m                                 Traceback (most recent call last)",
      "Cell \u001b[0;32mIn[9], line 1\u001b[0m\n\u001b[0;32m----> 1\u001b[0m \u001b[38;5;28mprint\u001b[39m(new_store)\n",
      "\u001b[0;31mNameError\u001b[0m: name 'new_store' is not defined"
     ]
    }
   ],
   "source": [
    "print(new_store)"
   ]
  },
  {
   "cell_type": "code",
   "execution_count": 23,
   "metadata": {},
   "outputs": [],
   "source": [
    "cart = {}\n",
    "\n",
    "def add_item(user_cart):\n",
    "    item = input(\"What would you like to add? \")\n",
    "    quantity = int(input(f\"How many {item} would you like to add? \"))\n",
    "    \n",
    "    if item not in user_cart:\n",
    "        user_cart[item] = quantity\n",
    "    else:\n",
    "        user_cart[item] += quantity\n",
    "        \n",
    "def remove_item(user_cart):\n",
    "    item = input(\"What would you like to remove from your cart? \")\n",
    "    del user_cart[item]\n",
    "    \n",
    "def view_cart(user_cart):\n",
    "    print(user_cart)\n",
    "    \n",
    "def run(user_cart):\n",
    "    while True:\n",
    "        response = input(\"What would you like to do? add, remove, show, quit?\")\n",
    "        if response.lower() == \"add\":\n",
    "            add_item(user_cart)\n",
    "        elif response.lower() == \"remove\":\n",
    "            remove_item(user_cart)\n",
    "        elif response.lower() == \"show\":\n",
    "            view_cart(user_cart)\n",
    "        elif response.lower() == \"quit\":\n",
    "            print(user_cart)\n",
    "            break\n",
    "        else:\n",
    "            print(\"Please enter a valid response\")"
   ]
  },
  {
   "cell_type": "code",
   "execution_count": null,
   "metadata": {},
   "outputs": [
    {
     "name": "stdout",
     "output_type": "stream",
     "text": [
      "What would you like to do? add, remove, show, quit?add\n",
      "What would you like to add? Potato\n",
      "How many Potato would you like to add? 2\n",
      "What would you like to do? add, remove, show, quit?Add\n",
      "What would you like to add? Chicken\n",
      "How many Chicken would you like to add? 2\n",
      "What would you like to do? add, remove, show, quit?add\n",
      "What would you like to add? pork\n",
      "How many pork would you like to add? 2\n",
      "What would you like to do? add, remove, show, quit?remove\n",
      "What would you like to remove from your cart? pork\n"
     ]
    }
   ],
   "source": [
    "run(cart)"
   ]
  },
  {
   "cell_type": "markdown",
   "metadata": {},
   "source": [
    "## Function Exercises <br>\n",
    "### Exercise 1\n",
    "<p>Write a function that loops through a list of first_names and a list of last_names, combines the two and return a list of full_names</p>"
   ]
  },
  {
   "cell_type": "code",
   "execution_count": null,
   "metadata": {},
   "outputs": [],
   "source": [
    "def combined_names(first_name, last_name):\n",
    "    if \n",
    "    \n",
    "    full_names = (f'{first_name} {last_name}')"
   ]
  },
  {
   "cell_type": "code",
   "execution_count": 6,
   "metadata": {},
   "outputs": [
    {
     "data": {
      "text/plain": [
       "['John Smith', 'Evan Smith', 'Jordan Williams', 'Max Bell']"
      ]
     },
     "execution_count": 6,
     "metadata": {},
     "output_type": "execute_result"
    }
   ],
   "source": [
    "first_name = ['John', 'Evan', 'Jordan', 'Max']\n",
    "last_name = ['Smith', 'Smith', 'Williams', 'Bell']\n",
    "\n",
    "def full_names(first_names, last_names):\n",
    "    full_name = []\n",
    "    if len(first_names) != len(last_names):\n",
    "        print(\"Those two lists are of different lengths! And i dont want to deal with that!\")\n",
    "        return full_name\n",
    "    else:\n",
    "        for i in range(len(first_names)):\n",
    "            full_name.append(first_names[i] + \" \" + last_names[i])\n",
    "        return full_name\n",
    "# Output: ['John Smith', 'Evan Smith', 'Jordan Williams', 'Max Bell']\n",
    "full_names(first_name,last_name)"
   ]
  },
  {
   "cell_type": "markdown",
   "metadata": {},
   "source": [
    "### Exercise 2\n",
    "Create a function that alters all values in the given list by subtracting 5 and then doubling them."
   ]
  },
  {
   "cell_type": "code",
   "execution_count": 4,
   "metadata": {},
   "outputs": [
    {
     "name": "stdout",
     "output_type": "stream",
     "text": [
      "[0, 10, 20, 30, -4]\n"
     ]
    }
   ],
   "source": [
    "input_list = [5,10,15,20,3]\n",
    "# output = [0,10,20,30,-4]\n",
    "\n",
    "def subtract_double(a_list):\n",
    "    result = []\n",
    "    for value in a_list:\n",
    "        new = ((value - 5) *2)\n",
    "        result.append(new)\n",
    "    return result\n",
    "print (subtract_double(input_list))    \n"
   ]
  },
  {
   "cell_type": "code",
   "execution_count": null,
   "metadata": {},
   "outputs": [],
   "source": [
    "def subtract_double(lists): #function with lists being the placeholder for the argument input_list\n",
    "    new_list = [] #new list created\n",
    "    for index_value in range(len(lists)): #looping throught the input_list\n",
    "        new_list.append(((lists[index_value] - 5) * 2)) #equation that is subtracting by 5 and then doubling, then is being added\n",
    "        #to the new list\n",
    "    return new_list\n",
    "\n",
    "subtract_double(input_list)"
   ]
  },
  {
   "cell_type": "code",
   "execution_count": null,
   "metadata": {},
   "outputs": [],
   "source": [
    "input_list = [5,10,15,20,3]\n",
    "# output = [0,10,20,30,-4]\n",
    "\n",
    "def function(input_list):\n",
    "    output_list = []\n",
    "    for num in input_list:\n",
    "        num2 = (num - 5 )*2\n",
    "        output_list.append(num2)\n",
    "\n",
    "    return output_list\n",
    "\n",
    "print(function(input_list))"
   ]
  },
  {
   "cell_type": "code",
   "execution_count": null,
   "metadata": {},
   "outputs": [],
   "source": [
    "input_list = [5,10,15,20,3]\n",
    "# output = [0,10,20,30,-4]\n",
    "\n",
    "\n",
    "def func(list9):\n",
    "    return [(i-5)*2 for i in list9]\n",
    "\n",
    "print(func(input_list))"
   ]
  },
  {
   "cell_type": "markdown",
   "metadata": {},
   "source": [
    "### Exercise 3\n",
    "Create a function that takes in a list of strings and filters out the strings that DO NOT contain vowels. "
   ]
  },
  {
   "cell_type": "code",
   "execution_count": 6,
   "metadata": {},
   "outputs": [],
   "source": [
    "string_list = ['Sheldon','Pnny','Leonard','Hwrd','Rj','Amy','Strt']\n",
    "# output = ['Sheldon','Leonard','Amy']\n"
   ]
  },
  {
   "cell_type": "code",
   "execution_count": 7,
   "metadata": {},
   "outputs": [
    {
     "name": "stdout",
     "output_type": "stream",
     "text": [
      "['Sheldon', 'Leonard']\n"
     ]
    }
   ],
   "source": [
    "def name_with_vowels(str_list):\n",
    "    return [name for name in str_list if ('e' or 'a' or 'i' or 'u' or 'o') in name.lower()]\n",
    "\n",
    "print(name_with_vowels(string_list))"
   ]
  },
  {
   "cell_type": "code",
   "execution_count": 8,
   "metadata": {},
   "outputs": [
    {
     "name": "stdout",
     "output_type": "stream",
     "text": [
      "['Sheldon', 'Leonard', 'Amy']\n"
     ]
    }
   ],
   "source": [
    "def vowel(list1):\n",
    "    new_list = []\n",
    "    vowels = ['a', 'e', 'i', 'o', 'u']\n",
    "    for name in list1:\n",
    "        for letter in name:\n",
    "            if letter.lower() in vowels:\n",
    "                new_list.append(name)\n",
    "                break\n",
    "                \n",
    "    return new_list\n",
    "\n",
    "print(vowel(string_list))"
   ]
  },
  {
   "cell_type": "code",
   "execution_count": null,
   "metadata": {},
   "outputs": [],
   "source": [
    "def filter_strings_without_vowels(string_list):\n",
    "    vowels = ['a', 'e', 'i', 'o', 'u']\n",
    "    result = \n",
    "return (result)"
   ]
  },
  {
   "cell_type": "code",
   "execution_count": null,
   "metadata": {},
   "outputs": [],
   "source": [
    "def vowels(lists):\n",
    "    new_names = []\n",
    "    for name in lists:\n",
    "        for letter in name.lower():\n",
    "            if letter == 'a' or letter == 'e' or letter == 'i' or letter == 'o' or letter == 'u':\n",
    "                new_names.append(name)\n",
    "                break\n",
    "    return new_names\n",
    "vowels(string_list)"
   ]
  },
  {
   "cell_type": "markdown",
   "metadata": {},
   "source": [
    "### Exercise 4\n",
    "Create a function that accepts a list as a parameter and returns a dictionary containing the list items as it's keys, and the number of times they appear in the list as the values"
   ]
  },
  {
   "cell_type": "code",
   "execution_count": 9,
   "metadata": {},
   "outputs": [
    {
     "name": "stdout",
     "output_type": "stream",
     "text": [
      "{'Harry': 3, 'Hermione': 2, 'Ron': 4, 'Dobby': 1, 'Draco': 1, 'Luna': 1}\n"
     ]
    }
   ],
   "source": [
    "example_list = [\"Harry\", 'Hermione','Harry','Ron','Dobby','Draco','Luna','Harry','Hermione','Ron','Ron','Ron']\n",
    "\n",
    "# output = {\n",
    "#     \"Harry\":3,\n",
    "#     \"Hermione\":2,\n",
    "#     \"Ron\":4,\n",
    "#     \"Dobby\":1,\n",
    "#     \"Draco\":1,\n",
    "#     \"Luna\": 1\n",
    "# }\n",
    "def get_count_dict(input_list):\n",
    "    output_dict = {}\n",
    "\n",
    "    for item in input_list:\n",
    "        if output_dict.get(item) == None:\n",
    "            output_dict[item] = 1\n",
    "        else:\n",
    "            output_dict[item] = output_dict[item] +1\n",
    "    return output_dict\n",
    "\n",
    "print(get_count_dict(example_list))\n"
   ]
  },
  {
   "cell_type": "code",
   "execution_count": 10,
   "metadata": {},
   "outputs": [
    {
     "name": "stdout",
     "output_type": "stream",
     "text": [
      "{'Harry': 3, 'Hermione': 2, 'Ron': 4, 'Dobby': 1, 'Draco': 1, 'Luna': 1}\n"
     ]
    }
   ],
   "source": [
    "count_name = {}\n",
    "\n",
    "for name in example_list:\n",
    "    if name in count_name:\n",
    "        count_name[name] += 1\n",
    "    else:\n",
    "        count_name[name] = 1\n",
    "\n",
    "print(count_name)"
   ]
  },
  {
   "cell_type": "code",
   "execution_count": 11,
   "metadata": {},
   "outputs": [
    {
     "data": {
      "text/plain": [
       "{'Harry': 3, 'Hermione': 2, 'Ron': 4, 'Dobby': 1, 'Draco': 1, 'Luna': 1}"
      ]
     },
     "execution_count": 11,
     "metadata": {},
     "output_type": "execute_result"
    }
   ],
   "source": [
    "def new_dict(lists):\n",
    "    empty_dict = {}\n",
    "    for name in lists:\n",
    "        if name not in empty_dict: \n",
    "            empty_dict[name] = 1 #adds name to dict\n",
    "        else: \n",
    "            empty_dict[name] += 1; #increments by 1 if name is in dict\n",
    "    return empty_dict\n",
    "new_dict(example_list)"
   ]
  },
  {
   "cell_type": "markdown",
   "metadata": {},
   "source": [
    "\n",
    "\n",
    "## Scope <br>\n",
    "<p>Scope refers to the ability to access variables, different types of scope include:<br>a) Global<br>b) Function (local)<br>c) Class (local)</p>"
   ]
  },
  {
   "cell_type": "code",
   "execution_count": 12,
   "metadata": {},
   "outputs": [
    {
     "name": "stdout",
     "output_type": "stream",
     "text": [
      "Orlando blossom\n",
      "1\n",
      "2\n",
      "3\n",
      "4\n",
      "5\n",
      "6\n",
      "7\n",
      "8\n",
      "9\n",
      "10\n"
     ]
    }
   ],
   "source": [
    "# placement of variable declaration matters\n",
    "name = \"Orlando blossom\" #Global variable\n",
    "#global variable can be accessed by anything on that file\n",
    "\n",
    "def increment_stuff():\n",
    "    counter = 0 #locally scoped function variable\n",
    "    print(name)\n",
    "    while counter < 10:\n",
    "        counter += 1\n",
    "        print(counter)\n",
    "\n",
    "# print(counter) name error because counter is not defined outside of function\n",
    "\n",
    "increment_stuff()"
   ]
  },
  {
   "cell_type": "markdown",
   "metadata": {},
   "source": [
    "## Modules"
   ]
  },
  {
   "cell_type": "markdown",
   "metadata": {},
   "source": [
    "##### Importing Entire Modules\n"
   ]
  },
  {
   "cell_type": "code",
   "execution_count": 14,
   "metadata": {},
   "outputs": [
    {
     "name": "stdout",
     "output_type": "stream",
     "text": [
      "2\n",
      "3\n",
      "4\n",
      "3.141592653589793\n",
      "3.141592653589793\n"
     ]
    }
   ],
   "source": [
    "## Modules\n",
    "\n",
    "import math\n",
    "num = 5\n",
    "num2 = 2\n",
    "num3 = num//num2\n",
    "print(num3)\n",
    "\n",
    "print(math.ceil(5/2))\n",
    "\n",
    "print(math.ceil(math.pi))\n",
    "print(math.pi)\n",
    "\n",
    "pie = math.pi\n",
    "\n",
    "print(pie)\n"
   ]
  },
  {
   "cell_type": "markdown",
   "metadata": {},
   "source": [
    "##### Importing Methods Only"
   ]
  },
  {
   "cell_type": "code",
   "execution_count": 15,
   "metadata": {},
   "outputs": [
    {
     "name": "stdout",
     "output_type": "stream",
     "text": [
      "3.141592653589793\n",
      "3\n"
     ]
    }
   ],
   "source": [
    "# from xxx import yyy\n",
    "#from math import floor\n",
    "from math import floor as f, pi as p\n",
    "\n",
    "print(p)\n",
    "\n",
    "print(f(p))"
   ]
  },
  {
   "cell_type": "markdown",
   "metadata": {},
   "source": [
    "##### Using the 'as' Keyword"
   ]
  },
  {
   "cell_type": "code",
   "execution_count": null,
   "metadata": {},
   "outputs": [],
   "source": [
    "# from xxx import yyy as z\n",
    "\n",
    "print(f(p))"
   ]
  },
  {
   "cell_type": "markdown",
   "metadata": {},
   "source": [
    "##### Creating a Module"
   ]
  },
  {
   "cell_type": "code",
   "execution_count": null,
   "metadata": {},
   "outputs": [],
   "source": [
    "from module import printName as pn\n",
    "\n",
    "pn('Ryan')"
   ]
  },
  {
   "cell_type": "markdown",
   "metadata": {},
   "source": [
    "# Homework Exercises"
   ]
  },
  {
   "cell_type": "markdown",
   "metadata": {},
   "source": [
    "### 1) Create a Module in VS Code and Import It into jupyter notebook <br>\n",
    "<p><b>Module should have the following capabilities:</b><br><br>\n",
    "1a) Has a function to calculate the square footage of a house <br>\n",
    "    <b>Reminder of Formula: Length X Width == Area</b><br>\n",
    "        <hr>\n",
    "1b) Has a function to calculate the circumference of a circle 2 Pi r <br><br>\n",
    "<b>Program in Jupyter Notebook should take in user input and use imported functions to calculate a circle's circumference or a houses square footage</b>\n",
    "</p>"
   ]
  },
  {
   "cell_type": "code",
   "execution_count": 9,
   "metadata": {},
   "outputs": [
    {
     "name": "stdout",
     "output_type": "stream",
     "text": [
      "Enter the length of the house (in feet): 2\n",
      "Enter the width of the house (in feet): 1\n",
      "The square footage of the house is 2.0 square feet.\n"
     ]
    }
   ],
   "source": [
    "import math\n",
    "\n",
    "def calculate_square_footage():\n",
    "    try:\n",
    "        length = float(input(\"Enter the length of the house (in feet): \"))\n",
    "        width = float(input(\"Enter the width of the house (in feet): \"))\n",
    "        area = length * width\n",
    "        return area\n",
    "    except ValueError:\n",
    "        print(\"Invalid input. Please enter a number.\")\n",
    "        return calculate_square_footage()\n",
    "\n",
    "square_footage = calculate_square_footage()\n",
    "\n",
    "if square_footage is not None:\n",
    "    print(f\"The square footage of the house is {square_footage} square feet.\")"
   ]
  },
  {
   "cell_type": "code",
   "execution_count": 8,
   "metadata": {},
   "outputs": [
    {
     "name": "stdout",
     "output_type": "stream",
     "text": [
      "Please enter the radius of the circle: 7\n",
      "The circumference of the circle is 43.98 units.\n"
     ]
    }
   ],
   "source": [
    "import math\n",
    "\n",
    "def calculate_circumference():\n",
    "    while True:\n",
    "        try:\n",
    "            radius = float(input(\"Please enter the radius of the circle: \"))\n",
    "            if radius < 0:\n",
    "                print(\"Radius cannot be negative. Please try again.\")\n",
    "                continue\n",
    "            circumference = 2 * math.pi * radius\n",
    "            print(f\"The circumference of the circle is {circumference:.2f} units.\")\n",
    "            break\n",
    "        except ValueError:\n",
    "            print(\"Invalid input. Please re-enter the radius.\")\n",
    "\n",
    "calculate_circumference()"
   ]
  },
  {
   "cell_type": "markdown",
   "metadata": {},
   "source": [
    "### 2) Build a Shopping Cart Function <br>\n",
    "<p><b>You can use either lists or dictionaries. The program should have the following capabilities:</b><br><br>\n",
    "1) Takes in input <br>\n",
    "2) Stores user input into a dictionary or list <br>\n",
    "3) The User can add or delete items <br>\n",
    "4) The User can see current shopping list <br>\n",
    "5) The program Loops until user 'quits' <br>\n",
    "6) Upon quiting the program, print out all items in the user's list <br>\n",
    "</p>"
   ]
  }
 ],
 "metadata": {
  "kernelspec": {
   "display_name": "Python 3 (ipykernel)",
   "language": "python",
   "name": "python3"
  },
  "language_info": {
   "codemirror_mode": {
    "name": "ipython",
    "version": 3
   },
   "file_extension": ".py",
   "mimetype": "text/x-python",
   "name": "python",
   "nbconvert_exporter": "python",
   "pygments_lexer": "ipython3",
   "version": "3.11.4"
  }
 },
 "nbformat": 4,
 "nbformat_minor": 2
}
